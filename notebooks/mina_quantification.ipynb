{
 "cells": [
  {
   "cell_type": "code",
   "execution_count": 2,
   "id": "8de667e1-5a20-4e68-9c25-1e487dabe50e",
   "metadata": {
    "ExecuteTime": {
     "end_time": "2023-11-06T08:12:01.213208400Z",
     "start_time": "2023-11-06T08:12:01.204687700Z"
    },
    "scrolled": true
   },
   "outputs": [],
   "source": [
    "import matplotlib.pyplot as plt\n",
    "import matplotlib as mpl\n",
    "%matplotlib inline\n",
    "mpl.rcParams['figure.dpi'] = 300\n",
    "from cellpose import plot, utils, io\n",
    "import numpy as np\n",
    "import pandas as pd\n",
    "import os\n",
    "from pathlib import Path"
   ]
  },
  {
   "cell_type": "code",
   "execution_count": 3,
   "id": "ac8dad8a-3af3-42e1-ae63-d6a0071126a1",
   "metadata": {
    "ExecuteTime": {
     "end_time": "2023-11-06T08:12:01.218924200Z",
     "start_time": "2023-11-06T08:12:01.207209700Z"
    }
   },
   "outputs": [],
   "source": [
    "p = Path('D:\\\\mina\\\\Test Quantifizierung')\n",
    "area_pixel = 0.512 * 0.512\n",
    "cells = p / \"cells\"\n",
    "exclude = p / \"exclude\"\n",
    "for c in cells.glob(\"**/*.npy\"):\n",
    "    print(c)\n",
    "    e = exclude / c.name\n",
    "    if not e.exists():\n",
    "        print(f\"{e} does not exist. Skipping ...\")\n",
    "        continue\n",
    "    dc = np.load(c, allow_pickle=True).item()\n",
    "    num_cells = dc[\"masks\"].max()\n",
    "    de = np.load(e, allow_pickle=True).item()\n",
    "    masks = de[\"masks\"]\n",
    "    num_pixels = masks.shape[0] * masks.shape[1] - np.count_nonzero(masks)\n",
    "    area = num_pixels * area_pixel\n",
    "    print(area)\n",
    "    cells_per_um2 = num_cells / area\n",
    "    print(cells_per_um2)\n"
   ]
  },
  {
   "cell_type": "code",
   "execution_count": 4,
   "id": "d1703670-1d66-459a-8c06-cc448220b771",
   "metadata": {
    "ExecuteTime": {
     "end_time": "2023-11-06T08:12:02.293094800Z",
     "start_time": "2023-11-06T08:12:01.219923100Z"
    }
   },
   "outputs": [
    {
     "ename": "OSError",
     "evalue": "Cannot save file into a non-existent directory: 'D:\\mina\\Test Quantifizierung'",
     "output_type": "error",
     "traceback": [
      "\u001b[1;31m---------------------------------------------------------------------------\u001b[0m",
      "\u001b[1;31mOSError\u001b[0m                                   Traceback (most recent call last)",
      "Cell \u001b[1;32mIn[4], line 16\u001b[0m\n\u001b[0;32m     14\u001b[0m             results\u001b[38;5;241m.\u001b[39mappend(row)\n\u001b[0;32m     15\u001b[0m df \u001b[38;5;241m=\u001b[39m pd\u001b[38;5;241m.\u001b[39mDataFrame(results)\n\u001b[1;32m---> 16\u001b[0m \u001b[43mdf\u001b[49m\u001b[38;5;241;43m.\u001b[39;49m\u001b[43mto_excel\u001b[49m\u001b[43m(\u001b[49m\u001b[43mos\u001b[49m\u001b[38;5;241;43m.\u001b[39;49m\u001b[43mpath\u001b[49m\u001b[38;5;241;43m.\u001b[39;49m\u001b[43mjoin\u001b[49m\u001b[43m(\u001b[49m\u001b[43mp\u001b[49m\u001b[43m,\u001b[49m\u001b[43m \u001b[49m\u001b[38;5;124;43m'\u001b[39;49m\u001b[38;5;124;43mresults.xlsx\u001b[39;49m\u001b[38;5;124;43m'\u001b[39;49m\u001b[43m)\u001b[49m\u001b[43m)\u001b[49m\n",
      "File \u001b[1;32m~\\miniconda3\\envs\\cellpose\\Lib\\site-packages\\pandas\\util\\_decorators.py:211\u001b[0m, in \u001b[0;36mdeprecate_kwarg.<locals>._deprecate_kwarg.<locals>.wrapper\u001b[1;34m(*args, **kwargs)\u001b[0m\n\u001b[0;32m    209\u001b[0m     \u001b[38;5;28;01melse\u001b[39;00m:\n\u001b[0;32m    210\u001b[0m         kwargs[new_arg_name] \u001b[38;5;241m=\u001b[39m new_arg_value\n\u001b[1;32m--> 211\u001b[0m \u001b[38;5;28;01mreturn\u001b[39;00m \u001b[43mfunc\u001b[49m\u001b[43m(\u001b[49m\u001b[38;5;241;43m*\u001b[39;49m\u001b[43margs\u001b[49m\u001b[43m,\u001b[49m\u001b[43m \u001b[49m\u001b[38;5;241;43m*\u001b[39;49m\u001b[38;5;241;43m*\u001b[39;49m\u001b[43mkwargs\u001b[49m\u001b[43m)\u001b[49m\n",
      "File \u001b[1;32m~\\miniconda3\\envs\\cellpose\\Lib\\site-packages\\pandas\\util\\_decorators.py:211\u001b[0m, in \u001b[0;36mdeprecate_kwarg.<locals>._deprecate_kwarg.<locals>.wrapper\u001b[1;34m(*args, **kwargs)\u001b[0m\n\u001b[0;32m    209\u001b[0m     \u001b[38;5;28;01melse\u001b[39;00m:\n\u001b[0;32m    210\u001b[0m         kwargs[new_arg_name] \u001b[38;5;241m=\u001b[39m new_arg_value\n\u001b[1;32m--> 211\u001b[0m \u001b[38;5;28;01mreturn\u001b[39;00m \u001b[43mfunc\u001b[49m\u001b[43m(\u001b[49m\u001b[38;5;241;43m*\u001b[39;49m\u001b[43margs\u001b[49m\u001b[43m,\u001b[49m\u001b[43m \u001b[49m\u001b[38;5;241;43m*\u001b[39;49m\u001b[38;5;241;43m*\u001b[39;49m\u001b[43mkwargs\u001b[49m\u001b[43m)\u001b[49m\n",
      "File \u001b[1;32m~\\miniconda3\\envs\\cellpose\\Lib\\site-packages\\pandas\\core\\generic.py:2374\u001b[0m, in \u001b[0;36mNDFrame.to_excel\u001b[1;34m(self, excel_writer, sheet_name, na_rep, float_format, columns, header, index, index_label, startrow, startcol, engine, merge_cells, encoding, inf_rep, verbose, freeze_panes, storage_options)\u001b[0m\n\u001b[0;32m   2361\u001b[0m \u001b[38;5;28;01mfrom\u001b[39;00m \u001b[38;5;21;01mpandas\u001b[39;00m\u001b[38;5;21;01m.\u001b[39;00m\u001b[38;5;21;01mio\u001b[39;00m\u001b[38;5;21;01m.\u001b[39;00m\u001b[38;5;21;01mformats\u001b[39;00m\u001b[38;5;21;01m.\u001b[39;00m\u001b[38;5;21;01mexcel\u001b[39;00m \u001b[38;5;28;01mimport\u001b[39;00m ExcelFormatter\n\u001b[0;32m   2363\u001b[0m formatter \u001b[38;5;241m=\u001b[39m ExcelFormatter(\n\u001b[0;32m   2364\u001b[0m     df,\n\u001b[0;32m   2365\u001b[0m     na_rep\u001b[38;5;241m=\u001b[39mna_rep,\n\u001b[1;32m   (...)\u001b[0m\n\u001b[0;32m   2372\u001b[0m     inf_rep\u001b[38;5;241m=\u001b[39minf_rep,\n\u001b[0;32m   2373\u001b[0m )\n\u001b[1;32m-> 2374\u001b[0m \u001b[43mformatter\u001b[49m\u001b[38;5;241;43m.\u001b[39;49m\u001b[43mwrite\u001b[49m\u001b[43m(\u001b[49m\n\u001b[0;32m   2375\u001b[0m \u001b[43m    \u001b[49m\u001b[43mexcel_writer\u001b[49m\u001b[43m,\u001b[49m\n\u001b[0;32m   2376\u001b[0m \u001b[43m    \u001b[49m\u001b[43msheet_name\u001b[49m\u001b[38;5;241;43m=\u001b[39;49m\u001b[43msheet_name\u001b[49m\u001b[43m,\u001b[49m\n\u001b[0;32m   2377\u001b[0m \u001b[43m    \u001b[49m\u001b[43mstartrow\u001b[49m\u001b[38;5;241;43m=\u001b[39;49m\u001b[43mstartrow\u001b[49m\u001b[43m,\u001b[49m\n\u001b[0;32m   2378\u001b[0m \u001b[43m    \u001b[49m\u001b[43mstartcol\u001b[49m\u001b[38;5;241;43m=\u001b[39;49m\u001b[43mstartcol\u001b[49m\u001b[43m,\u001b[49m\n\u001b[0;32m   2379\u001b[0m \u001b[43m    \u001b[49m\u001b[43mfreeze_panes\u001b[49m\u001b[38;5;241;43m=\u001b[39;49m\u001b[43mfreeze_panes\u001b[49m\u001b[43m,\u001b[49m\n\u001b[0;32m   2380\u001b[0m \u001b[43m    \u001b[49m\u001b[43mengine\u001b[49m\u001b[38;5;241;43m=\u001b[39;49m\u001b[43mengine\u001b[49m\u001b[43m,\u001b[49m\n\u001b[0;32m   2381\u001b[0m \u001b[43m    \u001b[49m\u001b[43mstorage_options\u001b[49m\u001b[38;5;241;43m=\u001b[39;49m\u001b[43mstorage_options\u001b[49m\u001b[43m,\u001b[49m\n\u001b[0;32m   2382\u001b[0m \u001b[43m\u001b[49m\u001b[43m)\u001b[49m\n",
      "File \u001b[1;32m~\\miniconda3\\envs\\cellpose\\Lib\\site-packages\\pandas\\io\\formats\\excel.py:944\u001b[0m, in \u001b[0;36mExcelFormatter.write\u001b[1;34m(self, writer, sheet_name, startrow, startcol, freeze_panes, engine, storage_options)\u001b[0m\n\u001b[0;32m    940\u001b[0m     need_save \u001b[38;5;241m=\u001b[39m \u001b[38;5;28;01mFalse\u001b[39;00m\n\u001b[0;32m    941\u001b[0m \u001b[38;5;28;01melse\u001b[39;00m:\n\u001b[0;32m    942\u001b[0m     \u001b[38;5;66;03m# error: Cannot instantiate abstract class 'ExcelWriter' with abstract\u001b[39;00m\n\u001b[0;32m    943\u001b[0m     \u001b[38;5;66;03m# attributes 'engine', 'save', 'supported_extensions' and 'write_cells'\u001b[39;00m\n\u001b[1;32m--> 944\u001b[0m     writer \u001b[38;5;241m=\u001b[39m \u001b[43mExcelWriter\u001b[49m\u001b[43m(\u001b[49m\u001b[43m  \u001b[49m\u001b[38;5;66;43;03m# type: ignore[abstract]\u001b[39;49;00m\n\u001b[0;32m    945\u001b[0m \u001b[43m        \u001b[49m\u001b[43mwriter\u001b[49m\u001b[43m,\u001b[49m\u001b[43m \u001b[49m\u001b[43mengine\u001b[49m\u001b[38;5;241;43m=\u001b[39;49m\u001b[43mengine\u001b[49m\u001b[43m,\u001b[49m\u001b[43m \u001b[49m\u001b[43mstorage_options\u001b[49m\u001b[38;5;241;43m=\u001b[39;49m\u001b[43mstorage_options\u001b[49m\n\u001b[0;32m    946\u001b[0m \u001b[43m    \u001b[49m\u001b[43m)\u001b[49m\n\u001b[0;32m    947\u001b[0m     need_save \u001b[38;5;241m=\u001b[39m \u001b[38;5;28;01mTrue\u001b[39;00m\n\u001b[0;32m    949\u001b[0m \u001b[38;5;28;01mtry\u001b[39;00m:\n",
      "File \u001b[1;32m~\\miniconda3\\envs\\cellpose\\Lib\\site-packages\\pandas\\io\\excel\\_openpyxl.py:60\u001b[0m, in \u001b[0;36mOpenpyxlWriter.__init__\u001b[1;34m(self, path, engine, date_format, datetime_format, mode, storage_options, if_sheet_exists, engine_kwargs, **kwargs)\u001b[0m\n\u001b[0;32m     56\u001b[0m \u001b[38;5;28;01mfrom\u001b[39;00m \u001b[38;5;21;01mopenpyxl\u001b[39;00m\u001b[38;5;21;01m.\u001b[39;00m\u001b[38;5;21;01mworkbook\u001b[39;00m \u001b[38;5;28;01mimport\u001b[39;00m Workbook\n\u001b[0;32m     58\u001b[0m engine_kwargs \u001b[38;5;241m=\u001b[39m combine_kwargs(engine_kwargs, kwargs)\n\u001b[1;32m---> 60\u001b[0m \u001b[38;5;28;43msuper\u001b[39;49m\u001b[43m(\u001b[49m\u001b[43m)\u001b[49m\u001b[38;5;241;43m.\u001b[39;49m\u001b[38;5;21;43m__init__\u001b[39;49m\u001b[43m(\u001b[49m\n\u001b[0;32m     61\u001b[0m \u001b[43m    \u001b[49m\u001b[43mpath\u001b[49m\u001b[43m,\u001b[49m\n\u001b[0;32m     62\u001b[0m \u001b[43m    \u001b[49m\u001b[43mmode\u001b[49m\u001b[38;5;241;43m=\u001b[39;49m\u001b[43mmode\u001b[49m\u001b[43m,\u001b[49m\n\u001b[0;32m     63\u001b[0m \u001b[43m    \u001b[49m\u001b[43mstorage_options\u001b[49m\u001b[38;5;241;43m=\u001b[39;49m\u001b[43mstorage_options\u001b[49m\u001b[43m,\u001b[49m\n\u001b[0;32m     64\u001b[0m \u001b[43m    \u001b[49m\u001b[43mif_sheet_exists\u001b[49m\u001b[38;5;241;43m=\u001b[39;49m\u001b[43mif_sheet_exists\u001b[49m\u001b[43m,\u001b[49m\n\u001b[0;32m     65\u001b[0m \u001b[43m    \u001b[49m\u001b[43mengine_kwargs\u001b[49m\u001b[38;5;241;43m=\u001b[39;49m\u001b[43mengine_kwargs\u001b[49m\u001b[43m,\u001b[49m\n\u001b[0;32m     66\u001b[0m \u001b[43m\u001b[49m\u001b[43m)\u001b[49m\n\u001b[0;32m     68\u001b[0m \u001b[38;5;66;03m# ExcelWriter replaced \"a\" by \"r+\" to allow us to first read the excel file from\u001b[39;00m\n\u001b[0;32m     69\u001b[0m \u001b[38;5;66;03m# the file and later write to it\u001b[39;00m\n\u001b[0;32m     70\u001b[0m \u001b[38;5;28;01mif\u001b[39;00m \u001b[38;5;124m\"\u001b[39m\u001b[38;5;124mr+\u001b[39m\u001b[38;5;124m\"\u001b[39m \u001b[38;5;129;01min\u001b[39;00m \u001b[38;5;28mself\u001b[39m\u001b[38;5;241m.\u001b[39m_mode:  \u001b[38;5;66;03m# Load from existing workbook\u001b[39;00m\n",
      "File \u001b[1;32m~\\miniconda3\\envs\\cellpose\\Lib\\site-packages\\pandas\\io\\excel\\_base.py:1313\u001b[0m, in \u001b[0;36mExcelWriter.__init__\u001b[1;34m(self, path, engine, date_format, datetime_format, mode, storage_options, if_sheet_exists, engine_kwargs, **kwargs)\u001b[0m\n\u001b[0;32m   1309\u001b[0m \u001b[38;5;28mself\u001b[39m\u001b[38;5;241m.\u001b[39m_handles \u001b[38;5;241m=\u001b[39m IOHandles(\n\u001b[0;32m   1310\u001b[0m     cast(IO[\u001b[38;5;28mbytes\u001b[39m], path), compression\u001b[38;5;241m=\u001b[39m{\u001b[38;5;124m\"\u001b[39m\u001b[38;5;124mcompression\u001b[39m\u001b[38;5;124m\"\u001b[39m: \u001b[38;5;28;01mNone\u001b[39;00m}\n\u001b[0;32m   1311\u001b[0m )\n\u001b[0;32m   1312\u001b[0m \u001b[38;5;28;01mif\u001b[39;00m \u001b[38;5;129;01mnot\u001b[39;00m \u001b[38;5;28misinstance\u001b[39m(path, ExcelWriter):\n\u001b[1;32m-> 1313\u001b[0m     \u001b[38;5;28mself\u001b[39m\u001b[38;5;241m.\u001b[39m_handles \u001b[38;5;241m=\u001b[39m \u001b[43mget_handle\u001b[49m\u001b[43m(\u001b[49m\n\u001b[0;32m   1314\u001b[0m \u001b[43m        \u001b[49m\u001b[43mpath\u001b[49m\u001b[43m,\u001b[49m\u001b[43m \u001b[49m\u001b[43mmode\u001b[49m\u001b[43m,\u001b[49m\u001b[43m \u001b[49m\u001b[43mstorage_options\u001b[49m\u001b[38;5;241;43m=\u001b[39;49m\u001b[43mstorage_options\u001b[49m\u001b[43m,\u001b[49m\u001b[43m \u001b[49m\u001b[43mis_text\u001b[49m\u001b[38;5;241;43m=\u001b[39;49m\u001b[38;5;28;43;01mFalse\u001b[39;49;00m\n\u001b[0;32m   1315\u001b[0m \u001b[43m    \u001b[49m\u001b[43m)\u001b[49m\n\u001b[0;32m   1316\u001b[0m \u001b[38;5;28mself\u001b[39m\u001b[38;5;241m.\u001b[39m_cur_sheet \u001b[38;5;241m=\u001b[39m \u001b[38;5;28;01mNone\u001b[39;00m\n\u001b[0;32m   1318\u001b[0m \u001b[38;5;28;01mif\u001b[39;00m date_format \u001b[38;5;129;01mis\u001b[39;00m \u001b[38;5;28;01mNone\u001b[39;00m:\n",
      "File \u001b[1;32m~\\miniconda3\\envs\\cellpose\\Lib\\site-packages\\pandas\\io\\common.py:734\u001b[0m, in \u001b[0;36mget_handle\u001b[1;34m(path_or_buf, mode, encoding, compression, memory_map, is_text, errors, storage_options)\u001b[0m\n\u001b[0;32m    732\u001b[0m \u001b[38;5;66;03m# Only for write methods\u001b[39;00m\n\u001b[0;32m    733\u001b[0m \u001b[38;5;28;01mif\u001b[39;00m \u001b[38;5;124m\"\u001b[39m\u001b[38;5;124mr\u001b[39m\u001b[38;5;124m\"\u001b[39m \u001b[38;5;129;01mnot\u001b[39;00m \u001b[38;5;129;01min\u001b[39;00m mode \u001b[38;5;129;01mand\u001b[39;00m is_path:\n\u001b[1;32m--> 734\u001b[0m     \u001b[43mcheck_parent_directory\u001b[49m\u001b[43m(\u001b[49m\u001b[38;5;28;43mstr\u001b[39;49m\u001b[43m(\u001b[49m\u001b[43mhandle\u001b[49m\u001b[43m)\u001b[49m\u001b[43m)\u001b[49m\n\u001b[0;32m    736\u001b[0m \u001b[38;5;28;01mif\u001b[39;00m compression:\n\u001b[0;32m    737\u001b[0m     \u001b[38;5;28;01mif\u001b[39;00m compression \u001b[38;5;241m!=\u001b[39m \u001b[38;5;124m\"\u001b[39m\u001b[38;5;124mzstd\u001b[39m\u001b[38;5;124m\"\u001b[39m:\n\u001b[0;32m    738\u001b[0m         \u001b[38;5;66;03m# compression libraries do not like an explicit text-mode\u001b[39;00m\n",
      "File \u001b[1;32m~\\miniconda3\\envs\\cellpose\\Lib\\site-packages\\pandas\\io\\common.py:597\u001b[0m, in \u001b[0;36mcheck_parent_directory\u001b[1;34m(path)\u001b[0m\n\u001b[0;32m    595\u001b[0m parent \u001b[38;5;241m=\u001b[39m Path(path)\u001b[38;5;241m.\u001b[39mparent\n\u001b[0;32m    596\u001b[0m \u001b[38;5;28;01mif\u001b[39;00m \u001b[38;5;129;01mnot\u001b[39;00m parent\u001b[38;5;241m.\u001b[39mis_dir():\n\u001b[1;32m--> 597\u001b[0m     \u001b[38;5;28;01mraise\u001b[39;00m \u001b[38;5;167;01mOSError\u001b[39;00m(\u001b[38;5;124mrf\u001b[39m\u001b[38;5;124m\"\u001b[39m\u001b[38;5;124mCannot save file into a non-existent directory: \u001b[39m\u001b[38;5;124m'\u001b[39m\u001b[38;5;132;01m{\u001b[39;00mparent\u001b[38;5;132;01m}\u001b[39;00m\u001b[38;5;124m'\u001b[39m\u001b[38;5;124m\"\u001b[39m)\n",
      "\u001b[1;31mOSError\u001b[0m: Cannot save file into a non-existent directory: 'D:\\mina\\Test Quantifizierung'"
     ]
    }
   ],
   "source": [
    "results = []\n",
    "for root,d_names,f_names in os.walk(p):\n",
    "    for f in f_names:\n",
    "        if f.endswith('npy'):\n",
    "            fn = os.path.join(root, f)\n",
    "            print(fn)\n",
    "            s = fn.split(\"\\\\\")\n",
    "            group = s[-3]\n",
    "            mouse = s[-2]\n",
    "            dat = np.load(fn, allow_pickle=True).item()\n",
    "            num_cells = dat[\"masks\"].max()\n",
    "            row = {'group': group, 'mouse': mouse, 'filename': f, 'num_cells': num_cells}\n",
    "            print(row)\n",
    "            results.append(row)\n",
    "df = pd.DataFrame(results)\n",
    "df.to_excel(os.path.join(p, 'results.xlsx'))\n",
    "            \n",
    "            "
   ]
  },
  {
   "cell_type": "code",
   "execution_count": null,
   "id": "1492cc88-7a86-42cd-b7f2-ac10ebe3c5c9",
   "metadata": {
    "ExecuteTime": {
     "start_time": "2023-11-06T08:12:02.294095700Z"
    },
    "scrolled": true
   },
   "outputs": [],
   "source": [
    "dat = np.load('./Snap-147329_rgb_seg.npy', allow_pickle=True).item()\n",
    "\n",
    "# plot image with masks overlaid\n",
    "mask_RGB = plot.mask_overlay(dat['img'], dat['masks'],\n",
    "                        colors=np.array(dat['colors']))\n",
    "\n",
    "# plot image with outlines overlaid in red\n",
    "outlines = utils.outlines_list(dat['masks'])\n",
    "plt.imshow(dat['img'])\n",
    "for o in outlines:\n",
    "    plt.plot(o[:,0], o[:,1], color='r')"
   ]
  },
  {
   "cell_type": "code",
   "execution_count": null,
   "id": "21d2089a-40af-4016-a697-fe0993c1de91",
   "metadata": {
    "ExecuteTime": {
     "end_time": "2023-11-06T08:12:02.300098600Z",
     "start_time": "2023-11-06T08:12:02.295095700Z"
    }
   },
   "outputs": [],
   "source": [
    "# Change channels to red blue for all recursively\n",
    "p = 'C:\\\\Users\\\\chrism\\\\Documents\\\\Christian Mess'\n",
    "for root,d_names,f_names in os.walk(p):\n",
    "    for f in f_names:\n",
    "        if f.endswith('npy'):\n",
    "            fn = os.path.join(root, f)\n",
    "            dat = np.load(fn, allow_pickle=True).item()\n",
    "            dat['chan_choose'] = [1, 3]\n",
    "            with open(fn, 'wb') as f:\n",
    "                np.save(f, dat)"
   ]
  },
  {
   "cell_type": "code",
   "execution_count": null,
   "id": "ad47a1f4-f693-4f60-ac72-9d7bda433cf5",
   "metadata": {
    "ExecuteTime": {
     "start_time": "2023-11-06T08:12:02.297099Z"
    },
    "collapsed": true,
    "jupyter": {
     "outputs_hidden": true
    }
   },
   "outputs": [],
   "source": [
    "p = 'C:\\\\Users\\\\chrism\\\\Documents\\\\Christian Mess'\n",
    "for root,d_names,f_names in os.walk(p):\n",
    "    for f in f_names:\n",
    "        if f.endswith('npy'):\n",
    "            fn = os.path.join(root, f)\n",
    "            dat = np.load(fn, allow_pickle=True).item()\n",
    "            print(fn, dat['chan_choose'])"
   ]
  },
  {
   "cell_type": "code",
   "execution_count": null,
   "id": "4a5e8a7e-75d5-4da8-b7e2-b9e97d29d475",
   "metadata": {
    "ExecuteTime": {
     "start_time": "2023-11-06T08:12:02.298099300Z"
    }
   },
   "outputs": [],
   "source": [
    "p = 'C:\\\\Users\\\\chrism\\\\Documents\\\\mina\\\\dataset\\\\train'\n",
    "for root,d_names,f_names in os.walk(p):\n",
    "    for f in f_names:\n",
    "        if f.endswith('npy'):\n",
    "            fn = os.path.join(root, f)\n",
    "            dat = np.load(fn, allow_pickle=True).item()\n",
    "            dat['chan_choose'] = [1, 3]\n",
    "            with open(fn, 'wb') as f:\n",
    "                np.save(f, dat)"
   ]
  },
  {
   "cell_type": "code",
   "execution_count": null,
   "id": "471329d0-20be-45b5-bb1a-421dc9291a62",
   "metadata": {
    "ExecuteTime": {
     "start_time": "2023-11-06T08:12:02.299098500Z"
    }
   },
   "outputs": [],
   "source": [
    "for root,d_names,f_names in os.walk(p):\n",
    "    for f in f_names:\n",
    "        if f.endswith('npy'):\n",
    "            fn = os.path.join(root, f)\n",
    "            dat = np.load(fn, allow_pickle=True).item()\n",
    "            print(fn, dat['chan_choose'])"
   ]
  },
  {
   "cell_type": "code",
   "execution_count": null,
   "id": "a5d25f8b-f48e-4a82-9714-511fae21c6ad",
   "metadata": {
    "ExecuteTime": {
     "end_time": "2023-11-06T08:12:02.300098600Z",
     "start_time": "2023-11-06T08:12:02.300098600Z"
    },
    "scrolled": true
   },
   "outputs": [],
   "source": [
    "p = 'C:\\\\Users\\\\chrism\\\\Documents\\\\Christian Mess'\n",
    "results = []\n",
    "for root,d_names,f_names in os.walk(p):\n",
    "    for f in f_names:\n",
    "        if f.endswith('npy'):\n",
    "            fn = os.path.join(root, f)\n",
    "            print(fn)\n",
    "            s = fn.split(\"\\\\\")\n",
    "            group = s[-3]\n",
    "            mouse = s[-2]\n",
    "            dat = np.load(fn, allow_pickle=True).item()\n",
    "            num_cells = dat[\"masks\"].max()\n",
    "            row = {'group': group, 'mouse': mouse, 'filename': f, 'num_cells': num_cells}\n",
    "            print(row)\n",
    "            results.append(row)\n",
    "df = pd.DataFrame(results)\n",
    "df.to_excel(os.path.join(p, 'results.xlsx'))\n",
    "            \n",
    "            "
   ]
  },
  {
   "cell_type": "code",
   "execution_count": null,
   "id": "0c286657-4f9f-47fa-9b3e-65c53968db56",
   "metadata": {
    "ExecuteTime": {
     "start_time": "2023-11-06T08:12:02.301097900Z"
    }
   },
   "outputs": [],
   "source": [
    "# delete npy and tif if no segmentation\n",
    "import os\n",
    "\n",
    "p = 'C:\\\\Users\\\\chrism\\\\Documents\\\\mina\\\\dataset\\\\train_wo_empty'\n",
    "\n",
    "for root,d_names,f_names in os.walk(p):\n",
    "    for f in f_names:\n",
    "        if f.endswith('npy'):\n",
    "            fn = os.path.join(root, f)\n",
    "            # print(fn)\n",
    "            dat = np.load(fn, allow_pickle=True).item()\n",
    "            num_cells = dat[\"masks\"].max()\n",
    "            if num_cells < 1:\n",
    "                pre, ext = os.path.splitext(fn)\n",
    "                imfn = pre.replace(\"_seg\", \"\") + '.tif'\n",
    "                os.remove(fn)\n",
    "                print(fn, \"removed\")\n",
    "                os.remove(imfn)\n",
    "                print(imfn, \"removed\")t\n"
   ]
  },
  {
   "cell_type": "code",
   "execution_count": null,
   "id": "ddcd707c-cd8a-4015-ae72-73ca5025379d",
   "metadata": {
    "ExecuteTime": {
     "start_time": "2023-11-06T08:12:02.302098Z"
    }
   },
   "outputs": [],
   "source": []
  },
  {
   "cell_type": "code",
   "execution_count": null,
   "id": "98868ede-124f-4fa9-ad8f-fbf2bb15c849",
   "metadata": {
    "ExecuteTime": {
     "start_time": "2023-11-06T08:12:02.303096100Z"
    }
   },
   "outputs": [],
   "source": []
  }
 ],
 "metadata": {
  "kernelspec": {
   "display_name": "Python 3 (ipykernel)",
   "language": "python",
   "name": "python3"
  },
  "language_info": {
   "codemirror_mode": {
    "name": "ipython",
    "version": 3
   },
   "file_extension": ".py",
   "mimetype": "text/x-python",
   "name": "python",
   "nbconvert_exporter": "python",
   "pygments_lexer": "ipython3",
   "version": "3.10.13"
  }
 },
 "nbformat": 4,
 "nbformat_minor": 5
}
